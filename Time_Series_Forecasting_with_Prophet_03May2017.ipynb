{
 "cells": [
  {
   "cell_type": "code",
   "execution_count": 1,
   "metadata": {
    "collapsed": true
   },
   "outputs": [],
   "source": [
    "from fbprophet import Prophet\n",
    "\n",
    "import pandas as pd\n",
    "import numpy as np\n",
    "import matplotlib.pyplot as plt"
   ]
  },
  {
   "cell_type": "code",
   "execution_count": 24,
   "metadata": {
    "collapsed": true
   },
   "outputs": [],
   "source": [
    "def fn_get_date_df_of_reqd_len(reqd_len):\n",
    "    '''\n",
    "    function that creates a df with dates. Prophet needs input in a particular format. hence this step\n",
    "    \n",
    "    input:\n",
    "        reqd_len: the length reqd for the output df\n",
    "        also, we need a date_series.csv file on the machine which has just dates on one col\n",
    "    \n",
    "    output:\n",
    "        output_df: data frame with dates as the only col\n",
    "    '''\n",
    "    if reqd_len > 0:\n",
    "        output_df = pd.read_csv('date_series2.csv', nrows=reqd_len)\n",
    "    else:\n",
    "        output_df = None\n",
    "    return output_df"
   ]
  },
  {
   "cell_type": "code",
   "execution_count": 48,
   "metadata": {
    "collapsed": true
   },
   "outputs": [],
   "source": [
    "def fn_do_pred_using_prophet(input_data_list, n_elem_to_ignore, k_predictions):\n",
    "        '''\n",
    "        input:\n",
    "            input_data_list = list that contains the time series data \n",
    "            n_elem_to_ignore = last n number of elements in the input list that we don't want to use for forecast\n",
    "            k_predictions = the number of prediction data points we want to make\n",
    "            \n",
    "        output:\n",
    "            output_df = data frame with ds, yhat, lower and upper limits of yhat; yhat is the prediction\n",
    "            predicted_df = full df with input and the predictions\n",
    "            pred_values_list = list we are interested in\n",
    "        '''\n",
    "        \n",
    "        len_of_ts = len(input_data_list) - n_elem_to_ignore\n",
    "        \n",
    "        df_for_prophet = fn_get_date_df_of_reqd_len(reqd_len=len_of_ts)\n",
    "        \n",
    "        #check if the n_elem variable is 0 or negative. we want it to be positive\n",
    "        if n_elem_to_ignore == 0:\n",
    "            df_for_prophet['y'] = input_data_list\n",
    "        elif n_elem_to_ignore < 0:\n",
    "            print \"elem to ignore can't be negative\"\n",
    "            return None\n",
    "        else:\n",
    "            df_for_prophet['y'] = input_data_list[ : -(n_elem_to_ignore)]\n",
    "        \n",
    "        max_date_in_input = df_for_prophet.ds.max()\n",
    "        \n",
    "        n = Prophet()\n",
    "        n.fit(df_for_prophet)\n",
    "\n",
    "        future2 = n.make_future_dataframe(periods=k_predictions, freq='D')\n",
    "        \n",
    "        predicted = n.predict(future2)\n",
    "        \n",
    "        only_prediction = predicted[predicted.ds > max_date_in_input]\n",
    "        \n",
    "        output_df = pd.DataFrame()\n",
    "        output_df['ds'] = only_prediction['ds']\n",
    "        output_df['yhat'] = only_prediction['yhat']\n",
    "        output_df['yhat_lower'] = only_prediction['yhat_lower']\n",
    "        output_df['yhat_upper'] = only_prediction['yhat_upper']\n",
    "        \n",
    "        pred_values_list = output_df['yhat'].values\n",
    "        \n",
    "        return output_df, predicted[['ds','yhat','yhat_lower','yhat_upper']], pred_values_list"
   ]
  },
  {
   "cell_type": "code",
   "execution_count": 4,
   "metadata": {
    "collapsed": true
   },
   "outputs": [],
   "source": [
    "sine_wave_csv = pd.read_csv('LSTM_sine_wave_data.csv',names=['val'])\n",
    "sine_wave_vals = list(sine_wave_csv.val)"
   ]
  },
  {
   "cell_type": "code",
   "execution_count": 21,
   "metadata": {
    "collapsed": false
   },
   "outputs": [
    {
     "data": {
      "text/plain": [
       "5001"
      ]
     },
     "execution_count": 21,
     "metadata": {},
     "output_type": "execute_result"
    }
   ],
   "source": [
    "len(sine_wave_vals)"
   ]
  },
  {
   "cell_type": "code",
   "execution_count": 52,
   "metadata": {
    "collapsed": false,
    "scrolled": false
   },
   "outputs": [],
   "source": [
    "only_preds, full_df, op_list = fn_do_pred_using_prophet(input_data_list=sine_wave_vals,n_elem_to_ignore=0,k_predictions=200)"
   ]
  },
  {
   "cell_type": "code",
   "execution_count": 53,
   "metadata": {
    "collapsed": false
   },
   "outputs": [
    {
     "data": {
      "image/png": "[encoded data removed]",
      "text/plain": [
       "<matplotlib.figure.Figure at 0x7fb557045ad0>"
      ]
     },
     "metadata": {},
     "output_type": "display_data"
    }
   ],
   "source": [
    "plt.plot(op_list)\n",
    "plt.show()"
   ]
  },
  {
   "cell_type": "code",
   "execution_count": null,
   "metadata": {
    "collapsed": true
   },
   "outputs": [],
   "source": []
  }
 ],
 "metadata": {
  "anaconda-cloud": {},
  "kernelspec": {
   "display_name": "Python [conda root]",
   "language": "python",
   "name": "conda-root-py"
  },
  "language_info": {
   "codemirror_mode": {
    "name": "ipython",
    "version": 2
   },
   "file_extension": ".py",
   "mimetype": "text/x-python",
   "name": "python",
   "nbconvert_exporter": "python",
   "pygments_lexer": "ipython2",
   "version": "2.7.12"
  }
 },
 "nbformat": 4,
 "nbformat_minor": 1
}
