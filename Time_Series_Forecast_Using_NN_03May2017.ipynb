{
 "cells": [
  {
   "cell_type": "code",
   "execution_count": 1,
   "metadata": {
    "collapsed": false
   },
   "outputs": [
    {
     "name": "stderr",
     "output_type": "stream",
     "text": [
      "Using TensorFlow backend.\n"
     ]
    }
   ],
   "source": [
    "from keras.layers.core import Dense, Activation, Dropout\n",
    "from keras.layers.recurrent import LSTM\n",
    "from keras.models import Sequential\n",
    "\n",
    "import pandas as pd\n",
    "import numpy as np\n",
    "import matplotlib.pyplot as plt"
   ]
  },
  {
   "cell_type": "code",
   "execution_count": 2,
   "metadata": {
    "collapsed": true
   },
   "outputs": [],
   "source": [
    "def build_model(layers):\n",
    "    model = Sequential()\n",
    "\n",
    "    model.add(LSTM(\n",
    "        input_dim=layers[0],\n",
    "        output_dim=layers[1],\n",
    "        return_sequences=True))\n",
    "    model.add(Dropout(0.2))\n",
    "\n",
    "    model.add(LSTM(\n",
    "        layers[2],\n",
    "        return_sequences=False))\n",
    "    model.add(Dropout(0.2))\n",
    "\n",
    "    model.add(Dense(\n",
    "        output_dim=layers[3]))\n",
    "    model.add(Activation(\"linear\"))\n",
    "\n",
    "    model.compile(loss=\"mse\", optimizer=\"rmsprop\")\n",
    "    \n",
    "    return model"
   ]
  },
  {
   "cell_type": "code",
   "execution_count": 3,
   "metadata": {
    "collapsed": true
   },
   "outputs": [],
   "source": [
    "def create_train_sets_from_input_data(input_list, n_elem_to_ignore, seq_len):\n",
    "    \n",
    "    '''\n",
    "    gets input data and outputs train data sets\n",
    "    input:\n",
    "        input_list = time series data as a list\n",
    "        n_elem_to_ignore = number of elements to be not used for predictions\n",
    "        seq_len = sequence length to be used for NN training\n",
    "    output:\n",
    "        x_train\n",
    "        y_train\n",
    "        first_row_for_forecast\n",
    "        last_n_actuals\n",
    "    '''\n",
    "    full_data = input_list\n",
    "    \n",
    "    if full_data[len(full_data) - 1] == '':\n",
    "        full_data = full_data[ : -1]\n",
    "       \n",
    "    #now, data would have all the data elements\n",
    "    #we should not use the last 13 data points\n",
    "    #so we create a new list that has data only till t - 13\n",
    "    \n",
    "    data = full_data[: -(n_elem_to_ignore+2)]\n",
    "    last_n_actuals = full_data[-n_elem_to_ignore:]\n",
    "    \n",
    "    sequence_length = seq_len + 1\n",
    "    result = []\n",
    "    \n",
    "    for index in range(len(data) - sequence_length):\n",
    "        result.append(data[index: index + sequence_length])\n",
    "\n",
    "    result = np.array(result)\n",
    "\n",
    "    train = result[:result.shape[0], :]\n",
    "    \n",
    "    x_train = train[:-1, :-1]\n",
    "    y_train = train[:-1, -1]\n",
    "    \n",
    "    first_row_for_forecast = train[-1, :-1]\n",
    "   \n",
    "    x_train = np.reshape(x_train, (x_train.shape[0], x_train.shape[1], 1))\n",
    "    first_row_for_forecast = np.reshape(first_row_for_forecast, (1,first_row_for_forecast.shape[0],1))\n",
    "    \n",
    "    #x_test = np.reshape(x_test, (x_test.shape[0], x_test.shape[1], 1))  \n",
    "\n",
    "    return [x_train, y_train, first_row_for_forecast, last_n_actuals]"
   ]
  },
  {
   "cell_type": "code",
   "execution_count": 4,
   "metadata": {
    "collapsed": true
   },
   "outputs": [],
   "source": [
    "def fn_create_model(x_train,y_train,seq_len):\n",
    "\n",
    "    '''\n",
    "    function takes in training sets and fits to a NN model\n",
    "    \n",
    "    input:\n",
    "        x_train = x train data set.. comes from prev function\n",
    "        y_train = y train data set.. comes from prev function\n",
    "        seq_len = same as the seq len used in prev function\n",
    "    \n",
    "    output:\n",
    "        NN model fit with the input data\n",
    "        '''\n",
    "    \n",
    "    #build model\n",
    "    model = build_model([1, seq_len, 100, 1])\n",
    "\n",
    "    #fit model for this data\n",
    "    model.fit(\n",
    "        x_train,\n",
    "        y_train,\n",
    "        batch_size=512,\n",
    "        nb_epoch=1,\n",
    "        validation_split=0.05)\n",
    "    \n",
    "    return model"
   ]
  },
  {
   "cell_type": "code",
   "execution_count": 5,
   "metadata": {
    "collapsed": true
   },
   "outputs": [],
   "source": [
    "def fn_do_predictions_using_first_row_for_forecast(model, first_row_for_forecast, k_prediction_len):\n",
    "    \n",
    "    '''\n",
    "    input:\n",
    "        model = NN fit model from prev function\n",
    "        first_row_for_forecast = from 1st function\n",
    "        k_prediction_len = user input; length of the predictions\n",
    "        \n",
    "    output:\n",
    "        predicted values for the length in input\n",
    "    \n",
    "    '''\n",
    "    \n",
    "    inp_for_forecast = first_row_for_forecast\n",
    "    predictions_list = []\n",
    "    \n",
    "    for i in range(k_prediction_len):\n",
    "    \n",
    "        predicted = model.predict(inp_for_forecast)\n",
    "        predicted = np.reshape(predicted, (predicted.size,))\n",
    "        predictions_list.append(predicted[0])\n",
    "        \n",
    "        temp_list = inp_for_forecast[0].tolist()\n",
    "\n",
    "        temp_list = temp_list[1:]\n",
    "        temp_list.append([predicted[0]])\n",
    "\n",
    "        inp_for_forecast = np.array(temp_list)\n",
    "        inp_for_forecast = np.reshape(a=inp_for_forecast, newshape=(1, inp_for_forecast.shape[0],1))\n",
    "    \n",
    "    \n",
    "    return [predictions_list]"
   ]
  },
  {
   "cell_type": "code",
   "execution_count": 17,
   "metadata": {
    "collapsed": true
   },
   "outputs": [],
   "source": [
    "def fn_get_inputs_print_results(data_list,n_elements_to_ignore,k_predictions,seq_len):\n",
    "    '''\n",
    "    function takes in the input; calls the other 3 functions to do predictions\n",
    "    input:\n",
    "        data_list = list of time series elements\n",
    "        n_elements_to_ignore = #elements to ignore\n",
    "        k_predictions = # future predictions to make\n",
    "        seq_len = length of NN seq\n",
    "        \n",
    "    output:\n",
    "        predictions as a list\n",
    "    '''\n",
    "    \n",
    "    #call the fn to get data\n",
    "    x_train, y_train, first_row_for_forecast, last_n_actuals = create_train_sets_from_input_data(input_list=data_list,\n",
    "                                      n_elem_to_ignore=n_elements_to_ignore,\n",
    "                                      seq_len=seq_len)\n",
    "    \n",
    "    #build model with the above data\n",
    "    model = fn_create_model(x_train,y_train,seq_len)\n",
    "    \n",
    "    #do predictions\n",
    "    \n",
    "    predictions = fn_do_predictions_using_first_row_for_forecast(model=model,\n",
    "                                                   first_row_for_forecast = first_row_for_forecast,\n",
    "                                                   k_prediction_len = k_predictions)\n",
    "    \n",
    "    return predictions"
   ]
  },
  {
   "cell_type": "code",
   "execution_count": 7,
   "metadata": {
    "collapsed": true
   },
   "outputs": [],
   "source": [
    "sine_wave_csv = pd.read_csv('LSTM_sine_wave_data.csv',names=['val'])"
   ]
  },
  {
   "cell_type": "code",
   "execution_count": 8,
   "metadata": {
    "collapsed": true
   },
   "outputs": [],
   "source": [
    "sine_wave_vals = list(sine_wave_csv.val)"
   ]
  },
  {
   "cell_type": "code",
   "execution_count": 18,
   "metadata": {
    "collapsed": false
   },
   "outputs": [
    {
     "name": "stdout",
     "output_type": "stream",
     "text": [
      "Train on 4699 samples, validate on 248 samples\n",
      "Epoch 1/1\n",
      "4699/4699 [==============================] - 58s - loss: 0.1332 - val_loss: 0.0019\n"
     ]
    }
   ],
   "source": [
    "op_pred = fn_get_inputs_print_results(data_list=sine_wave_vals,\n",
    "                                      k_predictions=200,n_elements_to_ignore=0,seq_len=50)"
   ]
  },
  {
   "cell_type": "code",
   "execution_count": 14,
   "metadata": {
    "collapsed": true
   },
   "outputs": [
    {
     "data": {
      "text/plain": [
       "[[-0.002422163,\n",
       "  0.051157605,\n",
       "  0.10595496,\n",
       "  0.16186994,\n",
       "  0.21872564,\n",
       "  0.27624887,\n",
       "  0.33406478,\n",
       "  0.39169699,\n",
       "  0.44856867,\n",
       "  0.5040158,\n",
       "  0.55731261,\n",
       "  0.60772115,\n",
       "  0.65455633,\n",
       "  0.69725639,\n",
       "  0.73544031,\n",
       "  0.76893806,\n",
       "  0.79778564,\n",
       "  0.82218474,\n",
       "  0.84244215,\n",
       "  0.85889786,\n",
       "  0.87186503,\n",
       "  0.88158751,\n",
       "  0.88822162,\n",
       "  0.89184111,\n",
       "  0.89245367,\n",
       "  0.8900162,\n",
       "  0.88445103,\n",
       "  0.87565297,\n",
       "  0.86348623,\n",
       "  0.84777939,\n",
       "  0.82831079,\n",
       "  0.80479336,\n",
       "  0.77685803,\n",
       "  0.74404591,\n",
       "  0.70581824,\n",
       "  0.66160381,\n",
       "  0.61090493,\n",
       "  0.55348003,\n",
       "  0.48957735,\n",
       "  0.42013177,\n",
       "  0.346775,\n",
       "  0.27155089,\n",
       "  0.19642819,\n",
       "  0.12286223,\n",
       "  0.051622652,\n",
       "  -0.017116722,\n",
       "  -0.083561011,\n",
       "  -0.14807776,\n",
       "  -0.21104303,\n",
       "  -0.27276087,\n",
       "  -0.3334375,\n",
       "  -0.39312461,\n",
       "  -0.45209062,\n",
       "  -0.51021832,\n",
       "  -0.56735069,\n",
       "  -0.62328225,\n",
       "  -0.67775083,\n",
       "  -0.73043197,\n",
       "  -0.78093559,\n",
       "  -0.82880813,\n",
       "  -0.87354398,\n",
       "  -0.91461319,\n",
       "  -0.95149624,\n",
       "  -0.98372459,\n",
       "  -1.0109195,\n",
       "  -1.0328175,\n",
       "  -1.0492797,\n",
       "  -1.0602905,\n",
       "  -1.0659426,\n",
       "  -1.0664105,\n",
       "  -1.0619243,\n",
       "  -1.0527438,\n",
       "  -1.0391325,\n",
       "  -1.0213331,\n",
       "  -0.99955571,\n",
       "  -0.97396457,\n",
       "  -0.94467449,\n",
       "  -0.91175467,\n",
       "  -0.87522924,\n",
       "  -0.83509207,\n",
       "  -0.79132515,\n",
       "  -0.74393392,\n",
       "  -0.6930033,\n",
       "  -0.63876653,\n",
       "  -0.58167738,\n",
       "  -0.52244568,\n",
       "  -0.46199691,\n",
       "  -0.40132937,\n",
       "  -0.34129903,\n",
       "  -0.28241917,\n",
       "  -0.22477737,\n",
       "  -0.16810416,\n",
       "  -0.11194026,\n",
       "  -0.055811975,\n",
       "  0.00065340311,\n",
       "  0.057681188,\n",
       "  0.11535143,\n",
       "  0.17361857,\n",
       "  0.23233047,\n",
       "  0.29123887,\n",
       "  0.35000053,\n",
       "  0.40817153,\n",
       "  0.46520606,\n",
       "  0.52046645,\n",
       "  0.573255,\n",
       "  0.62286764,\n",
       "  0.66866469,\n",
       "  0.71014273,\n",
       "  0.74698955,\n",
       "  0.77910811,\n",
       "  0.80659997,\n",
       "  0.82972068,\n",
       "  0.84880805,\n",
       "  0.86421376,\n",
       "  0.8762424,\n",
       "  0.88511801,\n",
       "  0.89097232,\n",
       "  0.8938539,\n",
       "  0.89374852,\n",
       "  0.89059573,\n",
       "  0.88430351,\n",
       "  0.87475199,\n",
       "  0.86179173,\n",
       "  0.84523332,\n",
       "  0.82483304,\n",
       "  0.80027157,\n",
       "  0.77113974,\n",
       "  0.73692757,\n",
       "  0.6970396,\n",
       "  0.65085852,\n",
       "  0.59788316,\n",
       "  0.53795928,\n",
       "  0.47155809,\n",
       "  0.39996836,\n",
       "  0.32519859,\n",
       "  0.24952255,\n",
       "  0.17486955,\n",
       "  0.10241946,\n",
       "  0.032570839,\n",
       "  -0.034827724,\n",
       "  -0.10018554,\n",
       "  -0.16394666,\n",
       "  -0.22646995,\n",
       "  -0.28799206,\n",
       "  -0.34863856,\n",
       "  -0.4084461,\n",
       "  -0.46738574,\n",
       "  -0.52537084,\n",
       "  -0.58226025,\n",
       "  -0.63785362,\n",
       "  -0.6918869,\n",
       "  -0.74402803,\n",
       "  -0.79387438,\n",
       "  -0.84096044,\n",
       "  -0.88477343,\n",
       "  -0.9247821,\n",
       "  -0.96047604,\n",
       "  -0.99140763,\n",
       "  -1.0172255,\n",
       "  -1.0376984,\n",
       "  -1.0527217,\n",
       "  -1.0623095,\n",
       "  -1.0665792,\n",
       "  -1.0657219,\n",
       "  -1.0599794,\n",
       "  -1.0496137,\n",
       "  -1.034885,\n",
       "  -1.0160296,\n",
       "  -0.99324453,\n",
       "  -0.9666813,\n",
       "  -0.93644297,\n",
       "  -0.90258402,\n",
       "  -0.86511898,\n",
       "  -0.82403487,\n",
       "  -0.77931285,\n",
       "  -0.73097152,\n",
       "  -0.67912495,\n",
       "  -0.62405628,\n",
       "  -0.56628698,\n",
       "  -0.50659668,\n",
       "  -0.44595757,\n",
       "  -0.38536349,\n",
       "  -0.32560262,\n",
       "  -0.26707706,\n",
       "  -0.20975904,\n",
       "  -0.15329911,\n",
       "  -0.097210251,\n",
       "  -0.041034583,\n",
       "  0.015561754,\n",
       "  0.072760753,\n",
       "  0.13060358,\n",
       "  0.1890129,\n",
       "  0.2478098,\n",
       "  0.30672088,\n",
       "  0.3653771,\n",
       "  0.42330763,\n",
       "  0.47994146,\n",
       "  0.53462106,\n",
       "  0.58664125,\n",
       "  0.63530791]]"
      ]
     },
     "execution_count": 14,
     "metadata": {},
     "output_type": "execute_result"
    }
   ],
   "source": [
    "op_pred"
   ]
  },
  {
   "cell_type": "code",
   "execution_count": 19,
   "metadata": {
    "collapsed": false
   },
   "outputs": [
    {
     "data": {
      "image/png": "[encoded data removed]",
      "text/plain": [
       "<matplotlib.figure.Figure at 0x7fac32fa29d0>"
      ]
     },
     "metadata": {},
     "output_type": "display_data"
    }
   ],
   "source": [
    "plt.plot(op_pred[0])\n",
    "plt.show()"
   ]
  },
  {
   "cell_type": "code",
   "execution_count": null,
   "metadata": {
    "collapsed": true
   },
   "outputs": [],
   "source": []
  }
 ],
 "metadata": {
  "anaconda-cloud": {},
  "kernelspec": {
   "display_name": "Python [conda root]",
   "language": "python",
   "name": "conda-root-py"
  },
  "language_info": {
   "codemirror_mode": {
    "name": "ipython",
    "version": 2
   },
   "file_extension": ".py",
   "mimetype": "text/x-python",
   "name": "python",
   "nbconvert_exporter": "python",
   "pygments_lexer": "ipython2",
   "version": "2.7.12"
  }
 },
 "nbformat": 4,
 "nbformat_minor": 1
}
